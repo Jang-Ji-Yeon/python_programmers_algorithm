{
 "cells": [
  {
   "cell_type": "markdown",
   "id": "63c5902a",
   "metadata": {},
   "source": [
    "# 시저 암호"
   ]
  },
  {
   "cell_type": "markdown",
   "id": "c60a9312",
   "metadata": {},
   "source": [
    "어떤 문장의 각 알파벳을 일정한 거리만큼 밀어서 다른 알파벳으로 바꾸는 암호화 방식을 시저 암호라고 합니다. 예를 들어 \"AB\"는 1만큼 밀면 \"BC\"가 되고, 3만큼 밀면 \"DE\"가 됩니다. \"z\"는 1만큼 밀면 \"a\"가 됩니다. 문자열 s와 거리 n을 입력받아 s를 n만큼 민 암호문을 만드는 함수, solution을 완성해 보세요."
   ]
  },
  {
   "cell_type": "code",
   "execution_count": 34,
   "id": "ee5e39cb",
   "metadata": {},
   "outputs": [
    {
     "data": {
      "text/plain": [
       "'C f G'"
      ]
     },
     "execution_count": 34,
     "metadata": {},
     "output_type": "execute_result"
    }
   ],
   "source": [
    "def solution(s, n):\n",
    "    answer = ''\n",
    "    upper = \"ABCDEFGHIJKLMNOPQRSTUVWXYZ\"\n",
    "    lower = \"abcdefghijklmnopqrstuvwxyz\"\n",
    "    for i in range(len(s)):\n",
    "        num = 0\n",
    "        if s[i] == ' ':\n",
    "            answer += s[i]\n",
    "            \n",
    "        elif s[i].islower() == True:\n",
    "            num = lower.index(s[i])\n",
    "            #print(num)\n",
    "\n",
    "            if num+n >= 25:\n",
    "                num -= 26\n",
    "            \n",
    "            answer += lower[num+n]\n",
    "        else:\n",
    "            num = upper.index(s[i])\n",
    "            if num+n > 25:\n",
    "                num -= 26\n",
    "            answer += upper[num+n]\n",
    "            \n",
    "    return answer\n",
    "solution(\"X a B\",5)"
   ]
  },
  {
   "cell_type": "markdown",
   "id": "13273d98",
   "metadata": {},
   "source": [
    "**풀이**\n",
    "1. 알파벳이 담긴 문자열 생성         \n",
    "2. 대문자/ 소문자 구분하기(upper, lower) \n",
    "3. 공백은 공백으로 남기기\n",
    "4. 알파벳 인덱스 위치 알아내기\n",
    "5. n만큼 알파벳 밀기 - 인덱싱\n",
    "6. 알파벳이 끝나면 처음부터 다시 시작하는 경우 고려(ex z에서 1을 밀면 a가 되는 경우)"
   ]
  },
  {
   "cell_type": "markdown",
   "id": "b4d88ad7",
   "metadata": {},
   "source": [
    "**알아두기**          \n",
    "1. 인덱스 위치 찾기\n",
    "- a.index(찾고싶은문자)              \n",
    "ex) a = [11,10,12,13,20,31,11,10,10,11]           \n",
    "print(a.index(10)           \n",
    "out:1   "
   ]
  }
 ],
 "metadata": {
  "kernelspec": {
   "display_name": "Python 3",
   "language": "python",
   "name": "python3"
  },
  "language_info": {
   "codemirror_mode": {
    "name": "ipython",
    "version": 3
   },
   "file_extension": ".py",
   "mimetype": "text/x-python",
   "name": "python",
   "nbconvert_exporter": "python",
   "pygments_lexer": "ipython3",
   "version": "3.8.8"
  }
 },
 "nbformat": 4,
 "nbformat_minor": 5
}
