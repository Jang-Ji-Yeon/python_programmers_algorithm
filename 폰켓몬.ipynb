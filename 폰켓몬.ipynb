{
 "cells": [
  {
   "cell_type": "markdown",
   "metadata": {},
   "source": [
    "# 폰켓몬"
   ]
  },
  {
   "cell_type": "code",
   "execution_count": 6,
   "metadata": {},
   "outputs": [
    {
     "name": "stdout",
     "output_type": "stream",
     "text": [
      "{1, 2, 3}\n"
     ]
    },
    {
     "data": {
      "text/plain": [
       "2"
      ]
     },
     "execution_count": 6,
     "metadata": {},
     "output_type": "execute_result"
    }
   ],
   "source": [
    "def solution(nums):\n",
    "    answer = 0\n",
    "    if len(set(nums)) >= len(nums)/2:\n",
    "        answer = len(nums)/2\n",
    "    else:\n",
    "        answer = len(set(nums))\n",
    "    return int(answer)\n",
    "solution([3, 1, 2, 3])"
   ]
  },
  {
   "cell_type": "markdown",
   "metadata": {},
   "source": [
    "- set을 사용해서 중복을 제거하는 것이 포인트!\n",
    "- 코드를 더 줄이면 좋을 것 같음! "
   ]
  },
  {
   "cell_type": "markdown",
   "metadata": {},
   "source": [
    "**min 함수를 사용하면 한줄로 해결 가능!!\n",
    "min(a,b) -> a,b 중 작은 것을 선택"
   ]
  },
  {
   "cell_type": "code",
   "execution_count": 8,
   "metadata": {},
   "outputs": [
    {
     "data": {
      "text/plain": [
       "2.0"
      ]
     },
     "execution_count": 8,
     "metadata": {},
     "output_type": "execute_result"
    }
   ],
   "source": [
    "def solution(nums):\n",
    "\n",
    "    return min(len(set(nums)),len(nums)/2)\n",
    "solution([3, 1, 2, 3])"
   ]
  }
 ],
 "metadata": {
  "kernelspec": {
   "display_name": "Python 3",
   "language": "python",
   "name": "python3"
  },
  "language_info": {
   "codemirror_mode": {
    "name": "ipython",
    "version": 3
   },
   "file_extension": ".py",
   "mimetype": "text/x-python",
   "name": "python",
   "nbconvert_exporter": "python",
   "pygments_lexer": "ipython3",
   "version": "3.8.5"
  }
 },
 "nbformat": 4,
 "nbformat_minor": 4
}
