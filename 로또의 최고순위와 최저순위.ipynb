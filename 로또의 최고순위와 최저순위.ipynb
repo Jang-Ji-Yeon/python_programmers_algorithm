{
 "cells": [
  {
   "cell_type": "markdown",
   "metadata": {},
   "source": [
    "## 로또의 최고순위와 최저순위"
   ]
  },
  {
   "cell_type": "markdown",
   "metadata": {},
   "source": [
    "구매한 로또 번호를 담은 배열 lottos                \n",
    "당첨 번호를 담은 배열 win_nums            \n",
    "당첨 가능한 최고 순위와 최저순위를 차례대로 배열에 담아서 return\n"
   ]
  },
  {
   "cell_type": "code",
   "execution_count": 19,
   "metadata": {},
   "outputs": [
    {
     "name": "stdout",
     "output_type": "stream",
     "text": [
      "0\n",
      "0\n"
     ]
    },
    {
     "data": {
      "text/plain": [
       "[1, 6]"
      ]
     },
     "execution_count": 19,
     "metadata": {},
     "output_type": "execute_result"
    }
   ],
   "source": [
    "def solution(lottos, win_nums):\n",
    "    answer = []\n",
    "    #count  0의 갯수\n",
    "    count = 0\n",
    "    #맞은 숫자 갯수\n",
    "    score = 0\n",
    "    for i in range(len(lottos)):\n",
    "        if lottos[i] == 0:\n",
    "            count += 1 \n",
    "        elif lottos[i] in win_nums:\n",
    "            score += 1\n",
    "            \n",
    "#     for i in lottos:\n",
    "#         for j in win_nums:\n",
    "#             if i == j:\n",
    "#                 score += 1\n",
    "    print(count)\n",
    "    print(score)\n",
    "        \n",
    "    #7-맞은갯수 = 등수 but 다 틀렸을때를 고려해야함\n",
    "    best = 7-(score+count)\n",
    "    worst = 7-score\n",
    "    if best == 7:\n",
    "        best = 1\n",
    "    if worst == 7:\n",
    "        worst = 6\n",
    "    answer.append(best)\n",
    "    answer.append(worst)\n",
    "        \n",
    "    return answer\n",
    "solution([1, 2, 3, 4, 5, 6], [38, 19, 20, 40, 15, 25])"
   ]
  },
  {
   "cell_type": "markdown",
   "metadata": {},
   "source": [
    "-> 맞은게 하나도 없고 0도 없는 경우 고려"
   ]
  },
  {
   "cell_type": "markdown",
   "metadata": {},
   "source": [
    "## 정답"
   ]
  },
  {
   "cell_type": "code",
   "execution_count": 20,
   "metadata": {},
   "outputs": [],
   "source": [
    "def solution(lottos, win_nums):\n",
    "    answer = []\n",
    "    #count  0의 갯수\n",
    "    count = 0\n",
    "    #맞은 숫자 갯수\n",
    "    score = 0\n",
    "    for i in range(len(lottos)):\n",
    "        if lottos[i] == 0:\n",
    "            count += 1 \n",
    "        elif lottos[i] in win_nums:\n",
    "            score += 1\n",
    "            \n",
    "#     for i in lottos:\n",
    "#         for j in win_nums:\n",
    "#             if i == j:\n",
    "#                 score += 1\n",
    "    print(count)\n",
    "    print(score)\n",
    "        \n",
    "    #7-맞은갯수 = 등수 but 다 틀렸을때를 고려해야함\n",
    "    best = 7-(score+count)\n",
    "    worst = 7-score\n",
    "#########################################################    \n",
    "    if best == 7:\n",
    "        best = 6\n",
    "#########################################################\n",
    "    if worst == 7:\n",
    "        worst = 6\n",
    "    \n",
    "    answer.append(best)\n",
    "    answer.append(worst)\n",
    "        \n",
    "    return answer"
   ]
  },
  {
   "cell_type": "markdown",
   "metadata": {},
   "source": [
    "**코드 정리해봄**"
   ]
  },
  {
   "cell_type": "code",
   "execution_count": 27,
   "metadata": {},
   "outputs": [
    {
     "name": "stdout",
     "output_type": "stream",
     "text": [
      "0\n",
      "0\n"
     ]
    },
    {
     "data": {
      "text/plain": [
       "[6, 6]"
      ]
     },
     "execution_count": 27,
     "metadata": {},
     "output_type": "execute_result"
    }
   ],
   "source": [
    "def solution(lottos, win_nums):\n",
    "    #count  0의 갯수\n",
    "    count = lottos.count(0)\n",
    "    #맞은 숫자 갯수\n",
    "    score = 0\n",
    "    for i in lottos:\n",
    "        if i in win_nums:\n",
    "            score += 1\n",
    "            \n",
    "#     for i in lottos:\n",
    "#         for j in win_nums:\n",
    "#             if i == j:\n",
    "#                 score += 1\n",
    "    print(count)\n",
    "    print(score)\n",
    "        \n",
    "    #7-맞은갯수 = 등수 but 다 틀렸을때를 고려해야함\n",
    "    best = 7-(score+count)\n",
    "    worst = 7-score\n",
    "#########################################################    \n",
    "    if best == 7:\n",
    "        best = 6\n",
    "#########################################################\n",
    "    if worst == 7:\n",
    "        worst = 6\n",
    "        \n",
    "    return [best,worst]\n",
    "solution([1, 2, 3, 4, 5, 6], [38, 19, 20, 40, 15, 25])"
   ]
  }
 ],
 "metadata": {
  "kernelspec": {
   "display_name": "Python 3",
   "language": "python",
   "name": "python3"
  },
  "language_info": {
   "codemirror_mode": {
    "name": "ipython",
    "version": 3
   },
   "file_extension": ".py",
   "mimetype": "text/x-python",
   "name": "python",
   "nbconvert_exporter": "python",
   "pygments_lexer": "ipython3",
   "version": "3.8.5"
  }
 },
 "nbformat": 4,
 "nbformat_minor": 4
}
