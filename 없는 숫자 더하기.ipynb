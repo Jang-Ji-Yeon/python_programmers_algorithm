{
 "cells": [
  {
   "cell_type": "markdown",
   "id": "88a3b83a",
   "metadata": {},
   "source": [
    "# 없는 숫자 더하기"
   ]
  },
  {
   "cell_type": "markdown",
   "id": "5cc2240c",
   "metadata": {},
   "source": [
    "0부터 9까지의 숫자 중 일부가 들어있는 배열 numbers가 매개변수로 주어집니다. numbers에서 찾을 수 없는 0부터 9까지의 숫자를 모두 찾아 더한 수를 return 하도록 solution 함수를 완성해주세요."
   ]
  },
  {
   "cell_type": "code",
   "execution_count": 6,
   "id": "4f0e4b3f",
   "metadata": {},
   "outputs": [
    {
     "data": {
      "text/plain": [
       "14"
      ]
     },
     "execution_count": 6,
     "metadata": {},
     "output_type": "execute_result"
    }
   ],
   "source": [
    "def solution(numbers):\n",
    "    answer = 0\n",
    "    for i in range(10):\n",
    "        if i not in numbers : answer += i \n",
    "    return answer\n",
    "solution([1,2,3,4,6,7,8,0])"
   ]
  }
 ],
 "metadata": {
  "kernelspec": {
   "display_name": "Python 3",
   "language": "python",
   "name": "python3"
  },
  "language_info": {
   "codemirror_mode": {
    "name": "ipython",
    "version": 3
   },
   "file_extension": ".py",
   "mimetype": "text/x-python",
   "name": "python",
   "nbconvert_exporter": "python",
   "pygments_lexer": "ipython3",
   "version": "3.8.8"
  }
 },
 "nbformat": 4,
 "nbformat_minor": 5
}
