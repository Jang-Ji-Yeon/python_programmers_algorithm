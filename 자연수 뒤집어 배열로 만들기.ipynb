{
 "cells": [
  {
   "cell_type": "markdown",
   "metadata": {},
   "source": [
    "# 자연수 뒤집어 배열로 만들기"
   ]
  },
  {
   "cell_type": "markdown",
   "metadata": {},
   "source": [
    "자연수 n을 뒤집어 각 자리 숫자를 원소로 가지는 배열 형태로 리턴해주세요. 예를들어 n이 12345이면 [5,4,3,2,1]을 리턴합니다."
   ]
  },
  {
   "cell_type": "code",
   "execution_count": 10,
   "metadata": {},
   "outputs": [
    {
     "data": {
      "text/plain": [
       "[5, 4, 3, 2, 1]"
      ]
     },
     "execution_count": 10,
     "metadata": {},
     "output_type": "execute_result"
    }
   ],
   "source": [
    "def solution(n):\n",
    "    answer = list(str(n))[::-1]\n",
    "    for i in range(len(answer)):\n",
    "        answer[i] = int(answer[i])\n",
    "    return answer\n",
    "\n",
    "solution(12345)"
   ]
  },
  {
   "cell_type": "markdown",
   "metadata": {},
   "source": [
    "**map 함수란?**\n",
    "여러개의 데이터를 한번에 다른 형태로 변환하기 위해서 사용(여러개의 데이터를 담고있는 리스트나 튜플을 대상으로 주로 사용)\n",
    "\n",
    "**map(변환함수, 순회가능한 데이터)**\n",
    "\n",
    "ex) answer = list(map(int,n))           \n",
    "-> list 안의 값이 str인경우 int로 바꾸기\n"
   ]
  }
 ],
 "metadata": {
  "kernelspec": {
   "display_name": "Python 3",
   "language": "python",
   "name": "python3"
  },
  "language_info": {
   "codemirror_mode": {
    "name": "ipython",
    "version": 3
   },
   "file_extension": ".py",
   "mimetype": "text/x-python",
   "name": "python",
   "nbconvert_exporter": "python",
   "pygments_lexer": "ipython3",
   "version": "3.8.5"
  }
 },
 "nbformat": 4,
 "nbformat_minor": 4
}
