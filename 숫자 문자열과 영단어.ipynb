{
 "cells": [
  {
   "cell_type": "markdown",
   "id": "e2700991",
   "metadata": {},
   "source": [
    " # 숫자 문자열과 영단어"
   ]
  },
  {
   "cell_type": "markdown",
   "id": "ea34b4bf",
   "metadata": {},
   "source": [
    "네오와 프로도가 숫자놀이를 하고 있습니다. 네오가 프로도에게 숫자를 건넬 때 일부 자릿수를 영단어로 바꾼 카드를 건네주면 프로도는 원래 숫자를 찾는 게임입니다.\n",
    "\n",
    "다음은 숫자의 일부 자릿수를 영단어로 바꾸는 예시입니다.\n",
    "\n",
    "1478 → \"one4seveneight\"            \n",
    "234567 → \"23four5six7\"           \n",
    "10203 → \"1zerotwozero3\"                 \n",
    "이렇게 숫자의 일부 자릿수가 영단어로 바뀌어졌거나, 혹은 바뀌지 않고 그대로인 문자열 s가 매개변수로 주어집니다. s가 의미하는 원래 숫자를 return 하도록 solution 함수를 완성해주세요."
   ]
  },
  {
   "cell_type": "code",
   "execution_count": 25,
   "id": "7e592a32",
   "metadata": {
    "scrolled": true
   },
   "outputs": [
    {
     "name": "stdout",
     "output_type": "stream",
     "text": [
      "one\n",
      "seven\n",
      "eight\n"
     ]
    },
    {
     "data": {
      "text/plain": [
       "1478"
      ]
     },
     "execution_count": 25,
     "metadata": {},
     "output_type": "execute_result"
    }
   ],
   "source": [
    "def solution(s):\n",
    "    answer = \"\"\n",
    "    tmp = \"\"\n",
    "    number_dic = {\"zero\":\"0\", \"one\":\"1\", \"two\":\"2\", \"three\":\"3\", \"four\":\"4\", \"five\":\"5\", \"six\":\"6\", \"seven\":\"7\", \"eight\":\"8\", \"nine\":\"9\"}\n",
    "    for i in range(len(s)):\n",
    "        if s[i].isalpha() == True:\n",
    "            tmp += s[i]\n",
    "            if tmp in number_dic.keys():\n",
    "                print(tmp)\n",
    "                answer += number_dic[tmp]\n",
    "                tmp = \"\"\n",
    "        else:\n",
    "            answer += s[i]\n",
    "    return int(answer)\n",
    "solution(\"one4seveneight\")"
   ]
  },
  {
   "cell_type": "markdown",
   "id": "4dbb790e",
   "metadata": {},
   "source": [
    "**replce를 사용하여 쉽게 해결**"
   ]
  },
  {
   "cell_type": "code",
   "execution_count": 27,
   "id": "9fab4509",
   "metadata": {},
   "outputs": [
    {
     "name": "stdout",
     "output_type": "stream",
     "text": [
      "one4seveneight\n",
      "14seveneight\n",
      "14seveneight\n",
      "14seveneight\n",
      "14seveneight\n",
      "14seveneight\n",
      "14seveneight\n",
      "147eight\n",
      "1478\n",
      "1478\n"
     ]
    },
    {
     "data": {
      "text/plain": [
       "1478"
      ]
     },
     "execution_count": 27,
     "metadata": {},
     "output_type": "execute_result"
    }
   ],
   "source": [
    "def solution(s):\n",
    "    num_dic = {\"zero\":\"0\", \"one\":\"1\", \"two\":\"2\", \"three\":\"3\", \"four\":\"4\", \"five\":\"5\", \"six\":\"6\", \"seven\":\"7\", \"eight\":\"8\", \"nine\":\"9\"}\n",
    "    answer = s\n",
    "    for key, value in num_dic.items():\n",
    "        answer = answer.replace(key, value)\n",
    "        print(answer)\n",
    "    return int(answer)\n",
    "solution(\"one4seveneight\")"
   ]
  }
 ],
 "metadata": {
  "kernelspec": {
   "display_name": "Python 3",
   "language": "python",
   "name": "python3"
  },
  "language_info": {
   "codemirror_mode": {
    "name": "ipython",
    "version": 3
   },
   "file_extension": ".py",
   "mimetype": "text/x-python",
   "name": "python",
   "nbconvert_exporter": "python",
   "pygments_lexer": "ipython3",
   "version": "3.8.8"
  }
 },
 "nbformat": 4,
 "nbformat_minor": 5
}
