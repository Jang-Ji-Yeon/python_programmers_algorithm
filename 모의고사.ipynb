{
 "cells": [
  {
   "cell_type": "markdown",
   "metadata": {},
   "source": [
    "## 모의고사\n",
    "\n",
    "- 코드가 너무 김/ 코드 줄여보기"
   ]
  },
  {
   "cell_type": "code",
   "execution_count": null,
   "metadata": {},
   "outputs": [],
   "source": [
    "def solution(answers):\n",
    "    answer = []\n",
    "    supo1=[]\n",
    "    supo2=[]\n",
    "    supo3=[]\n",
    "    supo1_list = [1,2,3,4,5]\n",
    "    for i in range(len(answers)):\n",
    "        if i < 5:\n",
    "            supo1.append(supo1_list[i])\n",
    "        else:\n",
    "            supo1.append(supo1_list[i%5])\n",
    "    print(supo1)\n",
    "\n",
    "    supo2_list = [2,1,2,3,2,4,2,5]\n",
    "    for j in range(len(answers)):\n",
    "        if j < 8:\n",
    "            supo2.append(supo2_list[j])\n",
    "        else:\n",
    "            supo2.append(supo2_list[j%8])\n",
    "    print(supo2)\n",
    "    \n",
    "    supo3_list = [3,3,1,1,2,2,4,4,5,5]\n",
    "    for k in range(len(answers)):\n",
    "        if k <10:\n",
    "            supo3.append(supo3_list[k])\n",
    "        else:\n",
    "            supo3.append(supo3_list[k%10])\n",
    "    print(supo3)\n",
    "    supo1_answer=0\n",
    "    supo2_answer=0\n",
    "    supo3_answer=0\n",
    "    for a in range(len(answers)):\n",
    "        if answers[a] == supo1[a]:\n",
    "            supo1_answer += 1\n",
    "        if answers[a] == supo2[a]:\n",
    "            supo2_answer += 1\n",
    "        if answers[a] == supo3[a]:\n",
    "            supo3_answer += 1\n",
    "\n",
    "    max_num = max([supo1_answer,supo2_answer,supo3_answer])\n",
    "    if max_num == supo1_answer:\n",
    "        answer.append(1)\n",
    "    if max_num == supo2_answer:\n",
    "        answer.append(2)\n",
    "    if max_num == supo3_answer:\n",
    "        answer.append(3)\n",
    "    \n",
    "    return(answer)"
   ]
  }
 ],
 "metadata": {
  "kernelspec": {
   "display_name": "Python 3",
   "language": "python",
   "name": "python3"
  },
  "language_info": {
   "codemirror_mode": {
    "name": "ipython",
    "version": 3
   },
   "file_extension": ".py",
   "mimetype": "text/x-python",
   "name": "python",
   "nbconvert_exporter": "python",
   "pygments_lexer": "ipython3",
   "version": "3.8.5"
  }
 },
 "nbformat": 4,
 "nbformat_minor": 4
}
