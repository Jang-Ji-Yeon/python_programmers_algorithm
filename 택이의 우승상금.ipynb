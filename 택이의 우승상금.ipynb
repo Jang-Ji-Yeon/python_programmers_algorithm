{
 "cells": [
  {
   "cell_type": "markdown",
   "id": "c3319092",
   "metadata": {},
   "source": [
    "# 택이의 우승상금 - codeit 실습과제"
   ]
  },
  {
   "cell_type": "markdown",
   "id": "c1545895",
   "metadata": {},
   "source": [
    "1988년 쌍문동에 사는 택이는 바둑 대회 우승 상금으로 5,000만원을 받았습니다. 하지만 바둑 외에는 아는 게 없으니, 이웃 어른들에게 이 돈으로 무엇을 해야 할지 물어보기로 하였습니다.\n",
    "\n",
    "은행에서 근무하는 동일 아저씨는 은행에 돈을 맡겨서 매년 이자로 12%씩 받는 것을 추천하셨습니다. 1년 후인 1989년에는 5,000만원의 12% 이자인 600만원이 더해져 5,600만원이 된다고 하면서요.\n",
    "\n",
    "이 이야기를 들은 미란 아주머니는 고작 12% 때문에 생돈을 은행에 넣느냐며, 얼마 전 지어진 은마아파트를 사라고 추천하셨습니다. 당시 은마아파트의 매매가는 5,000만원이었죠.\n",
    "\n",
    "2016년 기준 은마아파트의 매매가는 11억원인데요. 1988년 은행에 5,000만원을 넣었을 경우 2016년에는 얼마가 있을지 계산하여, 동일 아저씨와 미란 아주머니 중 누구의 말을 듣는 것이 좋았을지 판단해 보세요. 2016년 은행에 얼마가 있을지는 꼭 while문을 사용해서 계산해 주세요!\n",
    "\n",
    "2016년에 은행에 저축해 둔 금액이 더 크면, *원 차이로 동일 아저씨 말씀이 맞습니다.가 출력되도록 하세요. 반대로 은마아파트의 가격이 더 크면, *원 차이로 미란 아주머니 말씀이 맞습니다.가 출력되도록 하세요. 여기서는 꼭 if문을 사용해 주세요!"
   ]
  },
  {
   "cell_type": "code",
   "execution_count": 16,
   "id": "d8596a06",
   "metadata": {},
   "outputs": [
    {
     "name": "stdout",
     "output_type": "stream",
     "text": [
      "94193324원 차이로 동일 아저씨 말씀이 맞습니다.\n"
     ]
    }
   ],
   "source": [
    "# 1988년도 우승상금 5000만원\n",
    "# 2016에 은행에 얼마들어있을까?\n",
    "# 동일아저씨 : 매년 이자 12%\n",
    "# 미란아주머니 : 2016년 아파트 가격 11억원(100000000)\n",
    "year = 1988\n",
    "dongil = 50000000\n",
    "miran = 1100000000\n",
    "while year < 2016:\n",
    "    year +=1\n",
    "    dongil *= 1.12\n",
    "\n",
    "if dongil >= miran:\n",
    "    print(\"{}원 차이로 동일 아저씨 말씀이 맞습니다.\".format(int(dongil-miran)))\n",
    "else:\n",
    "    print(\"{}원 차이로 미란 아주머니 말씀이 맞습니다.\".format(int(miran-dongil)))"
   ]
  }
 ],
 "metadata": {
  "kernelspec": {
   "display_name": "Python 3",
   "language": "python",
   "name": "python3"
  },
  "language_info": {
   "codemirror_mode": {
    "name": "ipython",
    "version": 3
   },
   "file_extension": ".py",
   "mimetype": "text/x-python",
   "name": "python",
   "nbconvert_exporter": "python",
   "pygments_lexer": "ipython3",
   "version": "3.8.8"
  }
 },
 "nbformat": 4,
 "nbformat_minor": 5
}
