{
 "cells": [
  {
   "cell_type": "markdown",
   "metadata": {},
   "source": [
    "## 크레인(210510)\n",
    "게임 화면의 격자의 상태가 담긴 2차원 배열 board와 인형을 집기 위해 크레인을 작동시킨 위치가 담긴 배열 moves가 매개변수로 주어질 때, 크레인을 모두 작동시킨 후 터트려져 사라진 인형의 개수를 return 하도록 solution 함수를 완성"
   ]
  },
  {
   "cell_type": "code",
   "execution_count": 6,
   "metadata": {},
   "outputs": [],
   "source": [
    "#점수 28점 - board에서 뽑은 인형을 pop 함수로 제거\n",
    "def solution(board, moves): \n",
    "    answer = 0\n",
    "    basket= []\n",
    "    for i in moves:\n",
    "        for j in range(len(board)):\n",
    "            if board[j][i-1] != 0:      \n",
    "                basket.append(board[j][i-1])\n",
    "                board[j][i-1] = 0\n",
    "                if len(basket) >= 2:\n",
    "                    if basket[-1] == basket[-2]:\n",
    "                        answer += 2\n",
    "                        basket.pop()\n",
    "                        basket.pop()\n",
    "                    break\n",
    "    return answer"
   ]
  },
  {
   "cell_type": "code",
   "execution_count": 20,
   "metadata": {},
   "outputs": [
    {
     "data": {
      "text/plain": [
       "4"
      ]
     },
     "execution_count": 20,
     "metadata": {},
     "output_type": "execute_result"
    }
   ],
   "source": [
    "solution([[0,0,0,0,0],[0,0,1,0,3],[0,2,5,0,1],[4,2,4,4,2],[3,5,1,3,1]],[1,5,3,5,1,2,1,4])"
   ]
  },
  {
   "cell_type": "markdown",
   "metadata": {},
   "source": [
    "**1번에서 틀린 이유 : 한개의 인형을 뽑으면 그 줄에서 인형뽑기를 멈춰야하는데 그 줄의 인형을 모두 뽑아야 멈추는 코드를 짰음**"
   ]
  },
  {
   "cell_type": "code",
   "execution_count": 59,
   "metadata": {},
   "outputs": [],
   "source": [
    "#81점\n",
    "def solution(board, moves): \n",
    "    answer = 0\n",
    "    basket= []\n",
    "    for i in moves:\n",
    "        for j in range(len(board)):\n",
    "            if board[j][i-1] != 0:      \n",
    "                basket.append(board[j][i-1])\n",
    "                board[j][i-1] = 0\n",
    "                #if문이 한번 돌았으면 그만 뽑아야됨!\n",
    "                break\n",
    "            \n",
    "            if len(basket) >= 2:\n",
    "                if basket[-1] == basket[-2]:\n",
    "                        answer += 2\n",
    "                        print(basket)\n",
    "                        basket.pop()\n",
    "                        basket.pop()\n",
    "                        \n",
    "            \n",
    "    return answer"
   ]
  },
  {
   "cell_type": "code",
   "execution_count": 60,
   "metadata": {},
   "outputs": [
    {
     "data": {
      "text/plain": [
       "0"
      ]
     },
     "execution_count": 60,
     "metadata": {},
     "output_type": "execute_result"
    }
   ],
   "source": [
    "solution([[0,0,0,0,0],[0,0,1,0,3],[0,2,5,0,1],[4,2,4,4,2],[3,5,1,3,1]],[1,5,3,5,1,2,1,4])"
   ]
  },
  {
   "cell_type": "markdown",
   "metadata": {},
   "source": [
    "**두번째 문제 오류 : 두번째 if문이 두번째 for문 안에 있어서 생겼던 오류, basket if문을 moves if문 안에 넣어줘야함**"
   ]
  },
  {
   "cell_type": "markdown",
   "metadata": {},
   "source": [
    "## 정답!!"
   ]
  },
  {
   "cell_type": "code",
   "execution_count": 67,
   "metadata": {},
   "outputs": [],
   "source": [
    "#정답!!\n",
    "def solution(board, moves): \n",
    "    answer = 0\n",
    "    basket= []\n",
    "    for i in moves:\n",
    "        for j in range(len(board)):\n",
    "            if board[j][i-1] != 0:      \n",
    "                basket.append(board[j][i-1])\n",
    "                board[j][i-1] = 0\n",
    "                #if문이 한번 돌았으면 그만 뽑아야됨!\n",
    "                break\n",
    "        if len(basket) >= 2:\n",
    "            if basket[-1] == basket[-2]:\n",
    "                answer += 2\n",
    "                basket.pop()\n",
    "                basket.pop()\n",
    "    return answer"
   ]
  },
  {
   "cell_type": "code",
   "execution_count": 68,
   "metadata": {},
   "outputs": [
    {
     "data": {
      "text/plain": [
       "4"
      ]
     },
     "execution_count": 68,
     "metadata": {},
     "output_type": "execute_result"
    }
   ],
   "source": [
    "solution([[0,0,0,0,0],[0,0,1,0,3],[0,2,5,0,1],[4,2,4,4,2],[3,5,1,3,1]],[1,5,3,5,1,2,1,4])"
   ]
  }
 ],
 "metadata": {
  "kernelspec": {
   "display_name": "Python 3",
   "language": "python",
   "name": "python3"
  },
  "language_info": {
   "codemirror_mode": {
    "name": "ipython",
    "version": 3
   },
   "file_extension": ".py",
   "mimetype": "text/x-python",
   "name": "python",
   "nbconvert_exporter": "python",
   "pygments_lexer": "ipython3",
   "version": "3.8.5"
  }
 },
 "nbformat": 4,
 "nbformat_minor": 4
}
