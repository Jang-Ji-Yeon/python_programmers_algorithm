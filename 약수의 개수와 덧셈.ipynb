{
 "cells": [
  {
   "cell_type": "markdown",
   "id": "bbb3df48",
   "metadata": {},
   "source": [
    "# 약수의 개수와 덧셈"
   ]
  },
  {
   "cell_type": "markdown",
   "id": "5f3b393a",
   "metadata": {},
   "source": [
    "두 정수 left와 right가 매개변수로 주어집니다. left부터 right까지의 모든 수들 중에서, 약수의 개수가 짝수인 수는 더하고, 약수의 개수가 홀수인 수는 뺀 수를 return 하도록 solution 함수를 완성해주세요."
   ]
  },
  {
   "cell_type": "code",
   "execution_count": 11,
   "id": "fc7b51b4",
   "metadata": {},
   "outputs": [
    {
     "name": "stdout",
     "output_type": "stream",
     "text": [
      "[1, 13]\n",
      "[1, 2, 7, 14]\n",
      "[1, 3, 5, 15]\n",
      "[1, 2, 4, 8, 16]\n",
      "[1, 17]\n"
     ]
    },
    {
     "data": {
      "text/plain": [
       "43"
      ]
     },
     "execution_count": 11,
     "metadata": {},
     "output_type": "execute_result"
    }
   ],
   "source": [
    "def solution(left, right):\n",
    "    answer = 0\n",
    "    for num in range(left, right+1):\n",
    "        #print(num)\n",
    "        #measure = 약수\n",
    "        measure = []\n",
    "        \n",
    "        for i in range(num):\n",
    "            if num%(i+1) == 0:\n",
    "                measure.append(i+1)\n",
    "        print(measure)\n",
    "        \n",
    "        if len(measure)%2 == 0:\n",
    "            answer += num\n",
    "        else:\n",
    "            answer -= num\n",
    "        \n",
    "    return answer\n",
    "solution(13,17)"
   ]
  }
 ],
 "metadata": {
  "kernelspec": {
   "display_name": "Python 3",
   "language": "python",
   "name": "python3"
  },
  "language_info": {
   "codemirror_mode": {
    "name": "ipython",
    "version": 3
   },
   "file_extension": ".py",
   "mimetype": "text/x-python",
   "name": "python",
   "nbconvert_exporter": "python",
   "pygments_lexer": "ipython3",
   "version": "3.8.8"
  }
 },
 "nbformat": 4,
 "nbformat_minor": 5
}
