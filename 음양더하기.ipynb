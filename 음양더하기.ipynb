{
 "cells": [
  {
   "cell_type": "markdown",
   "metadata": {},
   "source": [
    "## 음양 더하기"
   ]
  },
  {
   "cell_type": "markdown",
   "metadata": {},
   "source": [
    "정수들의 절댓값을 차례대로 담은 정수 배열 = absolutes           \n",
    "정수들의 부호를 차례대로 담은 불리언 배열 = sings             \n",
    "실제 정수들의 합을 return"
   ]
  },
  {
   "cell_type": "code",
   "execution_count": 19,
   "metadata": {},
   "outputs": [
    {
     "name": "stdout",
     "output_type": "stream",
     "text": [
      "<class 'int'>\n"
     ]
    },
    {
     "data": {
      "text/plain": [
       "9"
      ]
     },
     "execution_count": 19,
     "metadata": {},
     "output_type": "execute_result"
    }
   ],
   "source": [
    "def solution(absolutes, signs):\n",
    "    for i in range(len(absolutes)):\n",
    "        if signs[i] == False:\n",
    "            absolutes[i] -= 2*absolutes[i]\n",
    "    print(type(absolutes[0]))\n",
    "    \n",
    "    return sum(absolutes)\n",
    "solution([4, 7, 12], [True, False, True])"
   ]
  },
  {
   "cell_type": "markdown",
   "metadata": {},
   "source": [
    "## 새로 알게된 점"
   ]
  },
  {
   "cell_type": "markdown",
   "metadata": {},
   "source": [
    "**<'int' object is not callable> 오류**           \n",
    "이유 : 예약어를 변수명으로 사용해서 생기는 오류(sum(),min(),max()등등)        \n",
    "각 기능들이 있는 함수를 변수명으로 사용한 뒤 그 함수를 호출하면 이름 중복으로 오류가 생김\n"
   ]
  }
 ],
 "metadata": {
  "kernelspec": {
   "display_name": "Python 3",
   "language": "python",
   "name": "python3"
  },
  "language_info": {
   "codemirror_mode": {
    "name": "ipython",
    "version": 3
   },
   "file_extension": ".py",
   "mimetype": "text/x-python",
   "name": "python",
   "nbconvert_exporter": "python",
   "pygments_lexer": "ipython3",
   "version": "3.8.5"
  }
 },
 "nbformat": 4,
 "nbformat_minor": 4
}
