{
 "cells": [
  {
   "cell_type": "markdown",
   "metadata": {},
   "source": [
    "## 최대공약수와 최소공배수\n",
    "두 수를 입력받아 두 수의 최대공약수와 최소공배수를 반환하는 함수, solution"
   ]
  },
  {
   "cell_type": "code",
   "execution_count": 1,
   "metadata": {
    "scrolled": true
   },
   "outputs": [
    {
     "name": "stdout",
     "output_type": "stream",
     "text": [
      "[2, 2]\n",
      "[1, 3]\n"
     ]
    },
    {
     "data": {
      "text/plain": [
       "[4, 12]"
      ]
     },
     "execution_count": 1,
     "metadata": {},
     "output_type": "execute_result"
    }
   ],
   "source": [
    "def solution(n,m):\n",
    "    answer = []\n",
    "    min = [] \n",
    "    while True:\n",
    "        num = 2\n",
    "        while num <= n and num <= m:\n",
    "            if n%num ==0 and m%num == 0:\n",
    "                min.append(num)\n",
    "                n = n//num\n",
    "                m = m//num\n",
    "            else:\n",
    "                num += 1\n",
    "        break           \n",
    "    max = [n,m]\n",
    "    min_num = 1\n",
    "    for i in range(len(min)):\n",
    "        min_num = min_num * min[i]\n",
    "    answer.append(min_num)\n",
    "    answer.append(min_num*max[0]*max[1])\n",
    "    print(min)\n",
    "    return answer\n",
    "solution(4,12)"
   ]
  }
 ],
 "metadata": {
  "kernelspec": {
   "display_name": "Python 3",
   "language": "python",
   "name": "python3"
  },
  "language_info": {
   "codemirror_mode": {
    "name": "ipython",
    "version": 3
   },
   "file_extension": ".py",
   "mimetype": "text/x-python",
   "name": "python",
   "nbconvert_exporter": "python",
   "pygments_lexer": "ipython3",
   "version": "3.8.5"
  }
 },
 "nbformat": 4,
 "nbformat_minor": 4
}
