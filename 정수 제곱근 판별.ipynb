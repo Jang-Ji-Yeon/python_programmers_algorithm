{
 "cells": [
  {
   "cell_type": "markdown",
   "id": "00cf755f",
   "metadata": {},
   "source": [
    "# 정수 제곱근 판별"
   ]
  },
  {
   "cell_type": "markdown",
   "id": "3b9a00b9",
   "metadata": {},
   "source": [
    "임의의 양의 정수 n에 대해, n이 어떤 양의 정수 x의 제곱인지 아닌지 판단하려 합니다.\n",
    "n이 양의 정수 x의 제곱이라면 x+1의 제곱을 리턴하고, n이 양의 정수 x의 제곱이 아니라면 -1을 리턴하는 함수를 완성하세요."
   ]
  },
  {
   "cell_type": "code",
   "execution_count": 12,
   "id": "043ceb9c",
   "metadata": {},
   "outputs": [
    {
     "data": {
      "text/plain": [
       "144"
      ]
     },
     "execution_count": 12,
     "metadata": {},
     "output_type": "execute_result"
    }
   ],
   "source": [
    "def solution(n):\n",
    "    answer = 0\n",
    "    for number in range(1,n+1):\n",
    "        if number**2 == n: \n",
    "            answer = number\n",
    "            break\n",
    "    if answer != 0:\n",
    "        return (answer+1)**2\n",
    "    else:\n",
    "        return -1\n",
    "\n",
    "solution(121)"
   ]
  },
  {
   "cell_type": "markdown",
   "id": "2d3ec563",
   "metadata": {},
   "source": [
    "**효율적인 코드를 위해 원하는 숫자를 찾았을 때 break를 사용해 반복문을 멈추는 것 잊지말기!!**"
   ]
  }
 ],
 "metadata": {
  "kernelspec": {
   "display_name": "Python 3",
   "language": "python",
   "name": "python3"
  },
  "language_info": {
   "codemirror_mode": {
    "name": "ipython",
    "version": 3
   },
   "file_extension": ".py",
   "mimetype": "text/x-python",
   "name": "python",
   "nbconvert_exporter": "python",
   "pygments_lexer": "ipython3",
   "version": "3.8.8"
  }
 },
 "nbformat": 4,
 "nbformat_minor": 5
}
