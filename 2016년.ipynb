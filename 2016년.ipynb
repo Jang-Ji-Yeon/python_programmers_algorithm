{
 "cells": [
  {
   "cell_type": "markdown",
   "metadata": {},
   "source": [
    "## 2016년\n",
    "2016년 1월 1일은 금요일입니다. 2016년 a월 b일은 무슨 요일일까요? 두 수 a ,b를 입력받아 2016년 a월 b일이 무슨 요일인지 리턴하는 함수, solution을 완성하세요. 요일의 이름은 일요일부터 토요일까지 각각 SUN,MON,TUE,WED,THU,FRI,SAT\n",
    "입니다.          \n",
    "**2016년도는 윤년(2/29일까지 존재)**"
   ]
  },
  {
   "cell_type": "code",
   "execution_count": 20,
   "metadata": {},
   "outputs": [
    {
     "name": "stdout",
     "output_type": "stream",
     "text": [
      "31\n",
      "60\n",
      "91\n",
      "121\n",
      "145\n"
     ]
    },
    {
     "data": {
      "text/plain": [
       "'TUE'"
      ]
     },
     "execution_count": 20,
     "metadata": {},
     "output_type": "execute_result"
    }
   ],
   "source": [
    "def solution(a, b):\n",
    "    answer = ''\n",
    "    calender = {1:31, 2:29, 3:31, 4:30, 5:31, 6:30, 7:31, 8:31, 9:30, 10:31, 11:30, 12:31}\n",
    "    #1/1이 금요일이니까 나머지 1이라서 목요일부터 시작\n",
    "    day = ['THU','FRI','SAT','SUN','MON','TUE','WED']   \n",
    "    month = 0\n",
    "    for i in range(a-1) :\n",
    "        month += calender[i+1]\n",
    "        print(month)\n",
    "    month += b\n",
    "    print(month)\n",
    "    if month % 7 == 0:\n",
    "        answer = day[0]\n",
    "    elif month % 7 == 1:\n",
    "        answer = day[1]\n",
    "    elif month % 7 == 2:\n",
    "        answer = day[2]\n",
    "    elif month % 7 == 3:\n",
    "        answer = day[3]\n",
    "    elif month % 7 == 4:\n",
    "        answer = day[4]\n",
    "    elif month % 7 == 5:\n",
    "        answer = day[5]\n",
    "    elif month % 7 == 6:\n",
    "        answer = day[6]\n",
    "    \n",
    "    return answer\n",
    "solution(5,24)"
   ]
  }
 ],
 "metadata": {
  "kernelspec": {
   "display_name": "Python 3",
   "language": "python",
   "name": "python3"
  },
  "language_info": {
   "codemirror_mode": {
    "name": "ipython",
    "version": 3
   },
   "file_extension": ".py",
   "mimetype": "text/x-python",
   "name": "python",
   "nbconvert_exporter": "python",
   "pygments_lexer": "ipython3",
   "version": "3.8.5"
  }
 },
 "nbformat": 4,
 "nbformat_minor": 4
}
