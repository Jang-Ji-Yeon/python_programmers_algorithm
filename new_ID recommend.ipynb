{
 "cells": [
  {
   "cell_type": "markdown",
   "metadata": {},
   "source": [
    "## 신규 ID 추천\n",
    "- 1번 조건부터 하나씩 해결하기\n"
   ]
  },
  {
   "cell_type": "code",
   "execution_count": 1,
   "metadata": {},
   "outputs": [],
   "source": [
    "def solution(new_id):\n",
    "    answer = ''\n",
    "    #1 모든 대문자를 소문자로 바꾸기\n",
    "    new_id = new_id.lower()\n",
    "    #2 문자 제거\n",
    "    for i in new_id:\n",
    "        if i == '-' or i == '_' or i == '.' or i.isalpha()==True or i.isdigit() ==True:\n",
    "                answer += i\n",
    "    #3 ..을.\n",
    "    while True:\n",
    "        if \"..\" in answer:\n",
    "            answer = answer.replace(\"..\",\".\")\n",
    "        else:\n",
    "            break\n",
    "\n",
    "    #4 첫번째 마지막 .을 제거\n",
    "    if answer[0] == '.' or answer[-1] == '.':\n",
    "        answer = answer.strip(\".\")\n",
    "    #5 빈문자열 a 대입\n",
    "    if answer ==\"\":\n",
    "        answer += \"a\"\n",
    "    #6 아이디 길이 16이상이면 15뒤로 제거/마지막에 .이면 . 제거\n",
    "    if len(answer) >= 16:\n",
    "        answer = answer[:15]\n",
    "        if answer[-1] == '.':\n",
    "            answer = answer.rstrip(\".\")\n",
    "    #7 아이디 길이 2이하일때, 길이가 3 될때까지 마지막 단어 반복 \n",
    "    while len(answer) <=2:\n",
    "        answer += answer[-1]\n",
    "\n",
    "    return answer"
   ]
  },
  {
   "cell_type": "code",
   "execution_count": null,
   "metadata": {},
   "outputs": [],
   "source": []
  }
 ],
 "metadata": {
  "kernelspec": {
   "display_name": "Python 3",
   "language": "python",
   "name": "python3"
  },
  "language_info": {
   "codemirror_mode": {
    "name": "ipython",
    "version": 3
   },
   "file_extension": ".py",
   "mimetype": "text/x-python",
   "name": "python",
   "nbconvert_exporter": "python",
   "pygments_lexer": "ipython3",
   "version": "3.8.5"
  }
 },
 "nbformat": 4,
 "nbformat_minor": 4
}
