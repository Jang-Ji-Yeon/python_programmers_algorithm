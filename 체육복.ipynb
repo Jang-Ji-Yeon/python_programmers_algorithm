{
 "cells": [
  {
   "cell_type": "markdown",
   "metadata": {},
   "source": [
    "## 체육복\n",
    "\n",
    "*greedy 알고리즘 문제\n",
    "- 최적의 해에 가까운 값을 갖기 위해 사용(여러 경우 중 하나를 결정해야 할 때, 매 순간 최적이라고 생각되는 경우를 선택)\n",
    "- 미래를 생각하지 않고 각 단계에서 가장 최선의 선택을 하는 기법 (이렇게 각 단계에서 최선의 선택을 한 것이 전체적으로도 최선이길 바라는 알고리즘)"
   ]
  },
  {
   "cell_type": "markdown",
   "metadata": {},
   "source": [
    "테스트 케이스\n",
    "solution(5, [2, 4], [3])\n",
    "solution(7, [2,3,4,6], [1,2,3])\n",
    "solution(2, [2, 1], [1, 2])"
   ]
  },
  {
   "cell_type": "code",
   "execution_count": 68,
   "metadata": {},
   "outputs": [
    {
     "data": {
      "text/plain": [
       "3"
      ]
     },
     "execution_count": 68,
     "metadata": {},
     "output_type": "execute_result"
    }
   ],
   "source": [
    "#75점 -> 여벌 체육복을 가져온 애가 분실했을 때 빌려주지 못하는 경우를 고려하지 않은 것 \n",
    "\n",
    "def solution(n, lost, reserve):\n",
    "    #answer = 체육 수업을 들을 수 있는 학생 리스트\n",
    "    answer = n-len(lost)\n",
    "    for i in lost:\n",
    "        #if i not in reserve:\n",
    "        if i-1 in reserve:\n",
    "            answer += 1\n",
    "            reserve.remove(i-1)\n",
    "                \n",
    "        elif i+1 in reserve:\n",
    "            answer += 1\n",
    "            reserve.remove(i+1)\n",
    "                \n",
    "    return answer\n",
    "solution(5, [2, 3, 4], [3])"
   ]
  },
  {
   "cell_type": "code",
   "execution_count": 137,
   "metadata": {},
   "outputs": [
    {
     "data": {
      "text/plain": [
       "5"
      ]
     },
     "execution_count": 137,
     "metadata": {},
     "output_type": "execute_result"
    }
   ],
   "source": [
    "#91점/12번 오류   -> 5, [2,3], [3,4] 케이스 실패 : 2벌 가져온 학생이 분실했을때의 케이스를 우선적으로 생각해야함\n",
    "\n",
    "def solution(n, lost, reserve):\n",
    "    #answer = 체육 수업을 들을 수 있는 학생 리스트\n",
    "    answer = n-len(lost)\n",
    "    for i in lost:\n",
    "        if i in reserve:\n",
    "            answer += 1\n",
    "            reserve.remove(i)\n",
    "        elif i-1 in reserve:\n",
    "            answer += 1\n",
    "            reserve.remove(i-1)\n",
    "                \n",
    "        elif i+1 in reserve:\n",
    "            answer += 1\n",
    "            reserve.remove(i+1)\n",
    "                \n",
    "    return answer\n",
    "solution(7, [2,3,4,6], [1,2,3])\n",
    "#답 : 5"
   ]
  },
  {
   "cell_type": "code",
   "execution_count": 135,
   "metadata": {},
   "outputs": [
    {
     "data": {
      "text/plain": [
       "2"
      ]
     },
     "execution_count": 135,
     "metadata": {},
     "output_type": "execute_result"
    }
   ],
   "source": [
    "#정답\n",
    "\n",
    "def solution(n, lost, reserve):\n",
    "    #answer = 체육 수업을 들을 수 있는 학생 리스트\n",
    "    answer = n-len(lost)\n",
    "    \n",
    "    for a in lost[:]:\n",
    "        if a in reserve:\n",
    "            answer += 1\n",
    "            reserve.remove(a)\n",
    "            lost.remove(a)     \n",
    "    for i in lost:\n",
    "        if i-1 in reserve:\n",
    "            answer += 1\n",
    "            reserve.remove(i-1)\n",
    "                \n",
    "        elif i+1 in reserve:\n",
    "            answer += 1\n",
    "            reserve.remove(i+1)\n",
    "                \n",
    "    return answer\n",
    "\n",
    "solution(2, [4, 3,2,1], [4, 1, 2,3])"
   ]
  },
  {
   "cell_type": "code",
   "execution_count": 138,
   "metadata": {},
   "outputs": [],
   "source": [
    "# for문에서    \n",
    "#  for a in lost:       \n",
    "#         if a in reserve:      \n",
    "#            answer += 1       \n",
    "#            reserve.remove(a)    \n",
    "#            lost.remove(a)           \n",
    "\n",
    "# remove로 값이 지워지면서 list들이 앞으로 한칸씩 오게되면서 짝수번째에 있던 값들이 for문 안에서 돌지 x     \n",
    "# 슬라이싱을 이용하면 값을 그대로 사용하는 것이 아닌 카피해서 쓰는 것이므로 문제가 해결!   \n"
   ]
  }
 ],
 "metadata": {
  "kernelspec": {
   "display_name": "Python 3",
   "language": "python",
   "name": "python3"
  },
  "language_info": {
   "codemirror_mode": {
    "name": "ipython",
    "version": 3
   },
   "file_extension": ".py",
   "mimetype": "text/x-python",
   "name": "python",
   "nbconvert_exporter": "python",
   "pygments_lexer": "ipython3",
   "version": "3.8.5"
  }
 },
 "nbformat": 4,
 "nbformat_minor": 4
}
