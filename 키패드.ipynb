{
 "cells": [
  {
   "cell_type": "markdown",
   "metadata": {},
   "source": [
    "## 키패드"
   ]
  },
  {
   "cell_type": "markdown",
   "metadata": {},
   "source": [
    "누를 번호가 담긴 배열 numbers, 왼손잡이인지 오른손잡이인지를 나타내는 문자열 hand      \n",
    "각 번호를 누른 엄지손가락이 왼손/오른손인지를 나타내는 문자열 return            \n",
    "두 엄지손가락 거리 같을 때 오른손잡이 = 오른손엄지, 왼손잡이 = 왼손엄지          "
   ]
  },
  {
   "cell_type": "code",
   "execution_count": 30,
   "metadata": {},
   "outputs": [
    {
     "name": "stdout",
     "output_type": "stream",
     "text": [
      "lh = (0, 3)\n",
      "rh = (2, 3)\n",
      "lh = (0, 2)\n",
      "lh = (1, 2)\n"
     ]
    },
    {
     "data": {
      "text/plain": [
       "'LRLL'"
      ]
     },
     "execution_count": 30,
     "metadata": {},
     "output_type": "execute_result"
    }
   ],
   "source": [
    "def solution(numbers, hand):\n",
    "    answer = ''\n",
    "    # *을 기준(0,0)\n",
    "    xy = {1:(0,3),2:(1,3),3:(2,3),4:(0,2),5:(1,2),6:(2,2),7:(0,1),8:(1,1),9:(2,1),\"*\":(0,0),0:(1,0),\"#\":(2,0)}\n",
    "    lh = xy[\"*\"]\n",
    "    rh = xy[\"#\"]\n",
    "   \n",
    "    for i in range(len(numbers)):\n",
    "        if numbers[i] == 1 or numbers[i] == 4 or numbers[i] == 7:\n",
    "            answer += \"L\"\n",
    "            lh = xy[numbers[i]]\n",
    "            print(f\"lh = {lh}\")\n",
    "        \n",
    "        elif numbers[i] == 3 or numbers[i] == 6 or numbers[i] == 9:\n",
    "            answer += \"R\"\n",
    "            rh = xy[numbers[i]]\n",
    "            print(f\"rh = {rh}\")\n",
    "        \n",
    "        elif numbers[i] == 2 or numbers[i] == 5 or numbers[i] == 8 or numbers[i] == 0:\n",
    "            if abs(rh[0]-xy[numbers[i]][0])+abs(rh[1]-xy[numbers[i]][1]) > abs(lh[0]-xy[numbers[i]][0])+abs(lh[1]-xy[numbers[i]][1]):\n",
    "                answer += \"L\"\n",
    "                lh = xy[numbers[i]]\n",
    "                print(f\"lh = {lh}\")\n",
    "            elif abs(rh[0]-xy[numbers[i]][0])+abs(rh[1]-xy[numbers[i]][1]) < abs(lh[0]-xy[numbers[i]][0])+abs(lh[1]-xy[numbers[i]][1]):\n",
    "                answer += \"R\"\n",
    "                rh = xy[numbers[i]]\n",
    "                print(f\"rh = {rh}\")\n",
    "            elif abs(rh[0]-xy[numbers[i]][0])+abs(rh[1]-xy[numbers[i]][1]) == abs(lh[0]-xy[numbers[i]][0])+abs(lh[1]-xy[numbers[i]][1]):\n",
    "                if hand == \"right\":\n",
    "                    answer += \"R\"\n",
    "                    rh = xy[numbers[i]]\n",
    "                    print(f\"rh = {rh}\")\n",
    "                elif hand == \"left\":\n",
    "                    answer += \"L\"\n",
    "                    lh = xy[numbers[i]]\n",
    "                    print(f\"lh = {lh}\")\n",
    "            \n",
    "                \n",
    "            \n",
    "    return answer\n",
    "solution([1, 3, 4, 5],\"right\")"
   ]
  },
  {
   "cell_type": "markdown",
   "metadata": {},
   "source": [
    "## 새로 알게된 점"
   ]
  },
  {
   "cell_type": "markdown",
   "metadata": {},
   "source": [
    "**딕셔너리 안에 튜플 값을 빼오는 방법**\n",
    "\n",
    "xy = {1:(0,3),2:(1,3),3:(2,3)}                     \n",
    "xy[키값][튜플의인덱스값]          \n",
    "ex) 키값 1 안의 value에서 0을 빼오고 싶을 때        \n",
    "xy[1][0]          "
   ]
  },
  {
   "cell_type": "markdown",
   "metadata": {},
   "source": [
    "**거리구하는 법**           \n",
    "1. 유클리드 거리        \n",
    "xy의 최소값을 구하는 법             \n",
    "2. 맨하튼 거리(이번 문제에 사용한 방법) - xy의 값이 상하좌우로만 이동 가능할 때           \n",
    "|x1-x2|+|y1-y2|"
   ]
  },
  {
   "cell_type": "code",
   "execution_count": null,
   "metadata": {},
   "outputs": [],
   "source": []
  }
 ],
 "metadata": {
  "kernelspec": {
   "display_name": "Python 3",
   "language": "python",
   "name": "python3"
  },
  "language_info": {
   "codemirror_mode": {
    "name": "ipython",
    "version": 3
   },
   "file_extension": ".py",
   "mimetype": "text/x-python",
   "name": "python",
   "nbconvert_exporter": "python",
   "pygments_lexer": "ipython3",
   "version": "3.8.5"
  }
 },
 "nbformat": 4,
 "nbformat_minor": 4
}
